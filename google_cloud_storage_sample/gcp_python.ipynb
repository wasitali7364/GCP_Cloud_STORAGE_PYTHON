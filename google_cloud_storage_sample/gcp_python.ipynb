{
 "cells": [
  {
   "cell_type": "code",
   "execution_count": 35,
   "metadata": {},
   "outputs": [],
   "source": [
    "# Import Necessary Libraries\n",
    "import os\n",
    "from google.cloud import storage\n",
    "import datetime"
   ]
  },
  {
   "cell_type": "code",
   "execution_count": 36,
   "metadata": {},
   "outputs": [],
   "source": [
    "# Set Environment & Credentials\n",
    "# credentials file will be found once gsutil is setup like is (https://cloud.google.com/storage/docs/gsutil_install)\n",
    "# credentials.json file is found in the directory (%APPDATA%\\gcloud\\) with name adc.json\n",
    "os.environ['GOOGLE_APPLICATION_CREDENTIALS'] = r\"C:\\Users\\wasit.ali.CORP\\Downloads\\vscode\\learn_google_cloud_storage\\credentials.json\""
   ]
  },
  {
   "cell_type": "code",
   "execution_count": 37,
   "metadata": {},
   "outputs": [],
   "source": [
    "# Initialise a client (with project name)\n",
    "storage_client = storage.Client(\"c2fo-application\")"
   ]
  },
  {
   "cell_type": "code",
   "execution_count": 38,
   "metadata": {},
   "outputs": [
    {
     "name": "stdout",
     "output_type": "stream",
     "text": [
      "Buckets:\n",
      "enterprise-buyer-reports-eunonprod\n",
      "enterprise-buyer-reports-euprod\n",
      "enterprise-buyer-reports-gnonprod\n",
      "enterprise-buyer-reports-gprod\n",
      "enterprise-eufss\n",
      "enterprise-euprod\n",
      "enterprise-euuat\n",
      "enterprise-gdevload\n",
      "enterprise-generic\n",
      "enterprise-gfss\n",
      "enterprise-gprod\n",
      "enterprise-guat\n",
      "enterprise-temp-eu\n",
      "enterprise-temp-us\n",
      "enterprise-test\n",
      "Listed all storage buckets.\n"
     ]
    }
   ],
   "source": [
    "# list all buckets\n",
    "buckets = storage_client.list_buckets()\n",
    "print(\"Buckets:\")\n",
    "for bucket in buckets:\n",
    "    if bucket.name.startswith('enterprise'):\n",
    "        print(bucket.name)\n",
    "print(\"Listed all storage buckets.\")"
   ]
  },
  {
   "cell_type": "code",
   "execution_count": 154,
   "metadata": {},
   "outputs": [
    {
     "name": "stdout",
     "output_type": "stream",
     "text": [
      "['2022-09-05', '2022-09-04', '2022-09-03', '2022-09-02', '2022-09-01', '2022-08-31', '2022-08-30', '2022-08-29', '2022-08-28', '2022-08-27', '2022-08-26', '2022-08-25', '2022-08-24', '2022-08-23', '2022-08-22', '2022-08-21', '2022-08-20', '2022-08-19', '2022-08-18', '2022-08-17', '2022-08-16', '2022-08-15', '2022-08-14', '2022-08-13', '2022-08-12', '2022-08-11', '2022-08-10', '2022-08-09', '2022-08-08', '2022-08-07', '2022-08-06', '2022-08-05', '2022-08-04', '2022-08-03', '2022-08-02', '2022-08-01']\n"
     ]
    }
   ],
   "source": [
    "# Create List Of Dates\n",
    "a = datetime.datetime(2022,9,5)\n",
    "numdays = 36\n",
    "dateList = []\n",
    "for x in range (0, numdays):\n",
    "    date_clean = (a - datetime.timedelta(days = x)).strftime('%Y-%m-%d')\n",
    "    dateList.append(date_clean)\n",
    "print(dateList)"
   ]
  },
  {
   "cell_type": "code",
   "execution_count": 151,
   "metadata": {},
   "outputs": [],
   "source": [
    "# This function will create a folder with name passed as an argument\n",
    "# Then look for the file present on gcp with same folder name which was passed as an argument\n",
    "# Then Download The File Matching Some Condition\n",
    "def download_and_create_folder(folder_name):\n",
    "  parent_directory = r\"C:\\Users\\wasit.ali.CORP\\Downloads\\vscode\\learn_google_cloud_storage\\ \"\n",
    "  directory = str(folder_name)\n",
    "  for blob in storage_client.list_blobs('enterprise-euprod', prefix='io/thermofisherindia/archive/' + directory + '/'):\n",
    "    if blob.name.endswith('.csv') and ('invoice_PR1' in blob.name):\n",
    "      raw_name = blob.name\n",
    "      start_index = raw_name.find('/20') + 12\n",
    "      file_name = raw_name[start_index:]\n",
    "      path = os.path.join(parent_directory.strip(),directory)\n",
    "      os.mkdir(path)\n",
    "      full_name = path + '\\\\' + file_name\n",
    "      # Download the file to a destination\n",
    "      blob.download_to_filename(full_name)\n",
    "      print(f'Downloaded File : {full_name}')\n",
    "    "
   ]
  },
  {
   "cell_type": "code",
   "execution_count": 155,
   "metadata": {},
   "outputs": [
    {
     "name": "stdout",
     "output_type": "stream",
     "text": [
      "Downloaded File : C:\\Users\\wasit.ali.CORP\\Downloads\\vscode\\learn_google_cloud_storage\\2022-09-05\\tfsindia_invoice_PR1_100_20220905_130029.csv\n",
      "Downloaded File : C:\\Users\\wasit.ali.CORP\\Downloads\\vscode\\learn_google_cloud_storage\\2022-09-04\\tfsindia_invoice_PR1_100_20220904_130022.csv\n",
      "Downloaded File : C:\\Users\\wasit.ali.CORP\\Downloads\\vscode\\learn_google_cloud_storage\\2022-09-03\\tfsindia_invoice_PR1_100_20220903_130009.csv\n",
      "Downloaded File : C:\\Users\\wasit.ali.CORP\\Downloads\\vscode\\learn_google_cloud_storage\\2022-09-02\\tfsindia_invoice_PR1_100_20220902_130022.csv\n",
      "Downloaded File : C:\\Users\\wasit.ali.CORP\\Downloads\\vscode\\learn_google_cloud_storage\\2022-09-01\\tfsindia_invoice_PR1_100_20220901_130022.csv\n",
      "Downloaded File : C:\\Users\\wasit.ali.CORP\\Downloads\\vscode\\learn_google_cloud_storage\\2022-08-31\\tfsindia_invoice_PR1_100_20220831_130036.csv\n",
      "Downloaded File : C:\\Users\\wasit.ali.CORP\\Downloads\\vscode\\learn_google_cloud_storage\\2022-08-30\\tfsindia_invoice_PR1_100_20220830_130032.csv\n",
      "Downloaded File : C:\\Users\\wasit.ali.CORP\\Downloads\\vscode\\learn_google_cloud_storage\\2022-08-29\\tfsindia_invoice_PR1_100_20220829_130036.csv\n",
      "Downloaded File : C:\\Users\\wasit.ali.CORP\\Downloads\\vscode\\learn_google_cloud_storage\\2022-08-28\\tfsindia_invoice_PR1_100_20220828_130025.csv\n",
      "Downloaded File : C:\\Users\\wasit.ali.CORP\\Downloads\\vscode\\learn_google_cloud_storage\\2022-08-27\\tfsindia_invoice_PR1_100_20220827_130048.csv\n",
      "Downloaded File : C:\\Users\\wasit.ali.CORP\\Downloads\\vscode\\learn_google_cloud_storage\\2022-08-26\\tfsindia_invoice_PR1_100_20220826_130053.csv\n",
      "Downloaded File : C:\\Users\\wasit.ali.CORP\\Downloads\\vscode\\learn_google_cloud_storage\\2022-08-25\\tfsindia_invoice_PR1_100_20220825_130040.csv\n",
      "Downloaded File : C:\\Users\\wasit.ali.CORP\\Downloads\\vscode\\learn_google_cloud_storage\\2022-08-24\\tfsindia_invoice_PR1_100_20220824_130039.csv\n",
      "Downloaded File : C:\\Users\\wasit.ali.CORP\\Downloads\\vscode\\learn_google_cloud_storage\\2022-08-23\\tfsindia_invoice_PR1_100_20220823_130039.csv\n",
      "Downloaded File : C:\\Users\\wasit.ali.CORP\\Downloads\\vscode\\learn_google_cloud_storage\\2022-08-22\\tfsindia_invoice_PR1_100_20220822_130036.csv\n",
      "Downloaded File : C:\\Users\\wasit.ali.CORP\\Downloads\\vscode\\learn_google_cloud_storage\\2022-08-21\\tfsindia_invoice_PR1_100_20220821_130030.csv\n",
      "Downloaded File : C:\\Users\\wasit.ali.CORP\\Downloads\\vscode\\learn_google_cloud_storage\\2022-08-20\\tfsindia_invoice_PR1_100_20220820_130026.csv\n",
      "Downloaded File : C:\\Users\\wasit.ali.CORP\\Downloads\\vscode\\learn_google_cloud_storage\\2022-08-19\\tfsindia_invoice_PR1_100_20220819_130025.csv\n",
      "Downloaded File : C:\\Users\\wasit.ali.CORP\\Downloads\\vscode\\learn_google_cloud_storage\\2022-08-18\\tfsindia_invoice_PR1_100_20220818_130022.csv\n",
      "Downloaded File : C:\\Users\\wasit.ali.CORP\\Downloads\\vscode\\learn_google_cloud_storage\\2022-08-17\\tfsindia_invoice_PR1_100_20220817_130018.csv\n",
      "Downloaded File : C:\\Users\\wasit.ali.CORP\\Downloads\\vscode\\learn_google_cloud_storage\\2022-08-16\\tfsindia_invoice_PR1_100_20220816_130010.csv\n",
      "Downloaded File : C:\\Users\\wasit.ali.CORP\\Downloads\\vscode\\learn_google_cloud_storage\\2022-08-15\\tfsindia_invoice_PR1_100_20220815_130017.csv\n",
      "Downloaded File : C:\\Users\\wasit.ali.CORP\\Downloads\\vscode\\learn_google_cloud_storage\\2022-08-14\\tfsindia_invoice_PR1_100_20220814_130013.csv\n",
      "Downloaded File : C:\\Users\\wasit.ali.CORP\\Downloads\\vscode\\learn_google_cloud_storage\\2022-08-13\\tfsindia_invoice_PR1_100_20220813_130035.csv\n",
      "Downloaded File : C:\\Users\\wasit.ali.CORP\\Downloads\\vscode\\learn_google_cloud_storage\\2022-08-12\\tfsindia_invoice_PR1_100_20220812_130051.csv\n",
      "Downloaded File : C:\\Users\\wasit.ali.CORP\\Downloads\\vscode\\learn_google_cloud_storage\\2022-08-11\\tfsindia_invoice_PR1_100_20220811_130036.csv\n",
      "Downloaded File : C:\\Users\\wasit.ali.CORP\\Downloads\\vscode\\learn_google_cloud_storage\\2022-08-10\\tfsindia_invoice_PR1_100_20220810_130012.csv\n",
      "Downloaded File : C:\\Users\\wasit.ali.CORP\\Downloads\\vscode\\learn_google_cloud_storage\\2022-08-09\\tfsindia_invoice_PR1_100_20220809_130031.csv\n",
      "Downloaded File : C:\\Users\\wasit.ali.CORP\\Downloads\\vscode\\learn_google_cloud_storage\\2022-08-08\\tfsindia_invoice_PR1_100_20220808_130036.csv\n",
      "Downloaded File : C:\\Users\\wasit.ali.CORP\\Downloads\\vscode\\learn_google_cloud_storage\\2022-08-07\\tfsindia_invoice_PR1_100_20220807_130041.csv\n",
      "Downloaded File : C:\\Users\\wasit.ali.CORP\\Downloads\\vscode\\learn_google_cloud_storage\\2022-08-06\\tfsindia_invoice_PR1_100_20220806_130024.csv\n",
      "Downloaded File : C:\\Users\\wasit.ali.CORP\\Downloads\\vscode\\learn_google_cloud_storage\\2022-08-05\\tfsindia_invoice_PR1_100_20220805_130037.csv\n",
      "Downloaded File : C:\\Users\\wasit.ali.CORP\\Downloads\\vscode\\learn_google_cloud_storage\\2022-08-04\\tfsindia_invoice_PR1_100_20220804_130045.csv\n",
      "Downloaded File : C:\\Users\\wasit.ali.CORP\\Downloads\\vscode\\learn_google_cloud_storage\\2022-08-03\\tfsindia_invoice_PR1_100_20220803_130014.csv\n",
      "Downloaded File : C:\\Users\\wasit.ali.CORP\\Downloads\\vscode\\learn_google_cloud_storage\\2022-08-02\\tfsindia_invoice_PR1_100_20220802_130010.csv\n",
      "Downloaded File : C:\\Users\\wasit.ali.CORP\\Downloads\\vscode\\learn_google_cloud_storage\\2022-08-01\\tfsindia_invoice_PR1_100_20220801_130034.csv\n"
     ]
    }
   ],
   "source": [
    "# This Will download file for all the elements in the list\n",
    "for date in dateList:\n",
    "    download_and_create_folder(str(date))"
   ]
  }
 ],
 "metadata": {
  "kernelspec": {
   "display_name": "Python 3 (ipykernel)",
   "language": "python",
   "name": "python3"
  },
  "language_info": {
   "codemirror_mode": {
    "name": "ipython",
    "version": 3
   },
   "file_extension": ".py",
   "mimetype": "text/x-python",
   "name": "python",
   "nbconvert_exporter": "python",
   "pygments_lexer": "ipython3",
   "version": "3.9.13"
  },
  "orig_nbformat": 4
 },
 "nbformat": 4,
 "nbformat_minor": 2
}
