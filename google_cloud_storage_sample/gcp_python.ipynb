{
 "cells": [
  {
   "cell_type": "code",
   "execution_count": null,
   "metadata": {},
   "outputs": [],
   "source": [
    "# Import Necessary Libraries\n",
    "import os\n",
    "from google.cloud import storage\n",
    "import datetime"
   ]
  },
  {
   "cell_type": "code",
   "execution_count": null,
   "metadata": {},
   "outputs": [],
   "source": [
    "# Set Environment & Credentials\n",
    "# credentials file will be found once gsutil is setup like is (https://cloud.google.com/storage/docs/gsutil_install)\n",
    "# credentials.json file is found in the directory (%APPDATA%\\gcloud\\) with name adc.json\n",
    "# library can be installed from here - pip install google-cloud-storage\n",
    "os.environ['GOOGLE_APPLICATION_CREDENTIALS'] = r\"C:\\Users\\YourDirectoryName\\Downloads\\vscode\\learn_google_cloud_storage\\credentials.json\""
   ]
  },
  {
   "cell_type": "code",
   "execution_count": null,
   "metadata": {},
   "outputs": [],
   "source": [
    "# Initialise a client (with project name)\n",
    "storage_client = storage.Client(\"c2fo-app\")"
   ]
  },
  {
   "cell_type": "code",
   "execution_count": null,
   "metadata": {},
   "outputs": [],
   "source": [
    "# list all buckets\n",
    "buckets = storage_client.list_buckets()\n",
    "print(\"Buckets:\")\n",
    "for bucket in buckets:\n",
    "    if bucket.name.startswith('enterprise'):\n",
    "        print(bucket.name)\n",
    "print(\"Listed all storage buckets.\")"
   ]
  },
  {
   "cell_type": "code",
   "execution_count": null,
   "metadata": {},
   "outputs": [],
   "source": [
    "# Create List Of Dates\n",
    "a = datetime.datetime(2022,9,5)\n",
    "numdays = 36\n",
    "dateList = []\n",
    "for x in range (0, numdays):\n",
    "    date_clean = (a - datetime.timedelta(days = x)).strftime('%Y-%m-%d')\n",
    "    dateList.append(date_clean)\n",
    "print(dateList)"
   ]
  },
  {
   "cell_type": "code",
   "execution_count": null,
   "metadata": {},
   "outputs": [],
   "source": [
    "# This function will create a folder with name passed as an argument\n",
    "# Then look for the file present on gcp with same folder name which was passed as an argument\n",
    "# Then Download The File Matching Some Condition\n",
    "def download_and_create_folder(folder_name):\n",
    "  parent_directory = r\"C:\\Users\\wasit.ali.CORP\\Downloads\\vscode\\learn_google_cloud_storage\\ \"\n",
    "  directory = str(folder_name)\n",
    "  for blob in storage_client.list_blobs('enterprise-euprod', prefix='io/thermofisherindia/archive/' + directory + '/'):\n",
    "    if blob.name.endswith('.csv') and ('invoice_PR1' in blob.name):\n",
    "      raw_name = blob.name\n",
    "      start_index = raw_name.find('/20') + 12\n",
    "      file_name = raw_name[start_index:]\n",
    "      path = os.path.join(parent_directory.strip(),directory)\n",
    "      os.mkdir(path)\n",
    "      full_name = path + '\\\\' + file_name\n",
    "      # Download the file to a destination\n",
    "      blob.download_to_filename(full_name)\n",
    "      print(f'Downloaded File : {full_name}')\n",
    "    "
   ]
  },
  {
   "cell_type": "code",
   "execution_count": null,
   "metadata": {},
   "outputs": [],
   "source": [
    "# This Will download file for all the elements in the list\n",
    "for date in dateList:\n",
    "    download_and_create_folder(str(date))"
   ]
  }
 ],
 "metadata": {
  "kernelspec": {
   "display_name": "Python 3 (ipykernel)",
   "language": "python",
   "name": "python3"
  },
  "language_info": {
   "codemirror_mode": {
    "name": "ipython",
    "version": 3
   },
   "file_extension": ".py",
   "mimetype": "text/x-python",
   "name": "python",
   "nbconvert_exporter": "python",
   "pygments_lexer": "ipython3",
   "version": "3.9.13"
  },
  "orig_nbformat": 4
 },
 "nbformat": 4,
 "nbformat_minor": 2
}
